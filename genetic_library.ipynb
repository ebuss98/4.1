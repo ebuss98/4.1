{
 "cells": [
  {
   "cell_type": "code",
   "execution_count": 1,
   "metadata": {},
   "outputs": [
    {
     "data": {
      "text/plain": [
       "[(107, 0.4, 212.0),\n",
       " (280, 0.5, 133.0),\n",
       " (1407, 0.9, 264.0),\n",
       " (1179, 0.5, 138.0),\n",
       " (1166, 1.1, 173.0),\n",
       " (661, 0.6, 231.0),\n",
       " (848, 1.1, 360.0),\n",
       " (145, 0.9, 234.0),\n",
       " (945, 1.0, 333.0),\n",
       " (292, 1.0, 187.0),\n",
       " (1329, 0.7, 290.0),\n",
       " (528, 0.4, 246.0),\n",
       " (1151, 1.1, 342.0),\n",
       " (1228, 1.2, 243.0),\n",
       " (742, 0.9, 108.0),\n",
       " (501, 1.0, 207.0),\n",
       " (1061, 0.7, 339.0),\n",
       " (230, 0.5, 265.0),\n",
       " (902, 1.2, 289.0),\n",
       " (152, 0.7, 315.0),\n",
       " (538, 1.1, 153.0),\n",
       " (1347, 0.7, 364.0),\n",
       " (1684, 0.7, 235.0),\n",
       " (501, 0.7, 342.0),\n",
       " (1428, 0.9, 276.0),\n",
       " (1273, 1.2, 310.0),\n",
       " (1323, 0.7, 118.0),\n",
       " (376, 0.4, 207.0),\n",
       " (1702, 0.7, 133.0),\n",
       " (1408, 0.4, 128.0)]"
      ]
     },
     "execution_count": 1,
     "metadata": {},
     "output_type": "execute_result"
    }
   ],
   "source": [
    "from pyeasyga import pyeasyga\n",
    "import numpy as np\n",
    "import pandas as pd\n",
    "import math\n",
    "import json\n",
    "# setup data\n",
    "raw_data = pd.read_csv('/Users/evgenijbuss/Downloads/3.txt', sep = ' ', names = ['weight','volume','price'], engine = 'python', header=None)\n",
    "weight_carrying  = raw_data['weight'][0]\n",
    "capacity = raw_data['volume'][0]\n",
    "raw_data = raw_data.drop([0])\n",
    "data_size = raw_data.shape[0]\n",
    "data = []\n",
    "for i in range(0,data_size):\n",
    "    data.append((raw_data['weight'][i+1], raw_data['volume'][i+1], raw_data['price'][i+1]))\n",
    "data"
   ]
  },
  {
   "cell_type": "code",
   "execution_count": 2,
   "metadata": {},
   "outputs": [
    {
     "name": "stdout",
     "output_type": "stream",
     "text": [
      "Items in knapsack:\n",
      "\n",
      "(107, 0.4, 212.0)\n",
      "(280, 0.5, 133.0)\n",
      "(661, 0.6, 231.0)\n",
      "(848, 1.1, 360.0)\n",
      "(145, 0.9, 234.0)\n",
      "(528, 0.4, 246.0)\n",
      "(1151, 1.1, 342.0)\n",
      "(1061, 0.7, 339.0)\n",
      "(230, 0.5, 265.0)\n",
      "(902, 1.2, 289.0)\n",
      "(152, 0.7, 315.0)\n",
      "(1347, 0.7, 364.0)\n",
      "(1684, 0.7, 235.0)\n",
      "(501, 0.7, 342.0)\n",
      "(1428, 0.9, 276.0)\n",
      "(376, 0.4, 207.0)\n",
      "(1408, 0.4, 128.0)\n",
      "\n",
      "Total price of these items:\n",
      "\n",
      " 4518.0\n",
      "\n",
      "Total weight:\n",
      "\n",
      " 12809\n",
      "\n",
      "Total capacity:\n",
      "\n",
      " 11.899999999999999\n",
      "\n",
      "Items in data list:\n",
      "\n",
      " [1, 1, 0, 0, 0, 1, 1, 1, 0, 0, 0, 1, 1, 0, 0, 0, 1, 1, 1, 1, 0, 1, 1, 1, 1, 0, 0, 1, 0, 1]\n"
     ]
    }
   ],
   "source": [
    "ga = pyeasyga.GeneticAlgorithm(data)        # initialise the GA with data\n",
    "ga.population_size = 200                    # increase population size to 200\n",
    "\n",
    "\n",
    "# define a fitness function\n",
    "def fitness(individual, data):\n",
    "    weight, volume, price = 0, 0, 0\n",
    "    for (selected, item) in zip(individual, data):\n",
    "        if selected:\n",
    "            weight += item[0]\n",
    "            volume += item[1]\n",
    "            price += item[2]\n",
    "    if weight > weight_carrying or volume > capacity:\n",
    "        price = 0\n",
    "    return price\n",
    "\n",
    "ga.fitness_function = fitness               # set the GA's fitness function\n",
    "ga.run()                                    # run the GA\n",
    "result_tuple = ga.best_individual()\n",
    "sumWeight = 0\n",
    "sumCapacity = 0\n",
    "print(\"Items in knapsack:\\n\")\n",
    "for i in range(0,data_size):\n",
    "    if (result_tuple[1][i]):\n",
    "        print(data[i])\n",
    "        sumWeight += data[i][0]\n",
    "        sumCapacity += data[i][1]\n",
    "\n",
    "print(\"\\nTotal price of these items:\\n\\n\",result_tuple[0])\n",
    "print(\"\\nTotal weight:\\n\\n\",sumWeight)\n",
    "print(\"\\nTotal volume:\\n\\n\",sumCapacity)\n",
    "\n",
    "print(\"\\nItems in data list:\\n\\n\", result_tuple[1])\n"
   ]
  },
  {
   "cell_type": "code",
   "execution_count": null,
   "metadata": {},
   "outputs": [],
   "source": []
  },
  {
   "cell_type": "code",
   "execution_count": null,
   "metadata": {},
   "outputs": [],
   "source": []
  }
 ],
 "metadata": {
  "kernelspec": {
   "display_name": "Python 3",
   "language": "python",
   "name": "python3"
  },
  "language_info": {
   "codemirror_mode": {
    "name": "ipython",
    "version": 3
   },
   "file_extension": ".py",
   "mimetype": "text/x-python",
   "name": "python",
   "nbconvert_exporter": "python",
   "pygments_lexer": "ipython3",
   "version": "3.8.3"
  }
 },
 "nbformat": 4,
 "nbformat_minor": 4
}
